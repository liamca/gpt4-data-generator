{
 "cells": [
  {
   "cell_type": "code",
   "execution_count": null,
   "id": "397175dc-ed36-4c8c-b867-2736ae561479",
   "metadata": {},
   "outputs": [],
   "source": [
    "# !pip install requests\n",
    "# !pip install pillow"
   ]
  },
  {
   "cell_type": "code",
   "execution_count": 5,
   "id": "3fbf968e-a8cb-411d-9ee4-26e342c58d17",
   "metadata": {},
   "outputs": [],
   "source": [
    "# Note: DALL-E 3 requires version 1.0.0 of the openai-python library or later\n",
    "import os\n",
    "from openai import AzureOpenAI\n",
    "import json\n",
    "import requests\n",
    "from PIL import Image\n",
    "import html  \n",
    "import re\n",
    "from dotenv import load_dotenv\n",
    "\n",
    "load_dotenv() \n",
    "\n",
    "if '<redacted' in os.getenv(\"openai_dalle3_api_base\") or os.getenv(\"openai_dalle3_api_base\") == None:\n",
    "    print ('Update .env with your Azure OpenAI Service details. Refer to sample.env for example.')"
   ]
  },
  {
   "cell_type": "code",
   "execution_count": null,
   "id": "75cef1a4-6cf1-424d-a1bb-79c29088e2af",
   "metadata": {},
   "outputs": [],
   "source": [
    "def remove_unicode_characters(input_string):  \n",
    "    # This regex pattern matches any character that is not in the range of ASCII  \n",
    "    ascii_only = re.sub(r'[^\\x00-\\x7F]+', '', input_string)  \n",
    "    return ascii_only  "
   ]
  },
  {
   "cell_type": "code",
   "execution_count": 6,
   "id": "38ae7032-ce45-4e99-94ad-7a574f1e0fd3",
   "metadata": {},
   "outputs": [],
   "source": [
    "# Set the directory for the stored image\n",
    "image_dir = 'images'\n",
    "\n",
    "# If the directory doesn't exist, create it\n",
    "if not os.path.isdir(image_dir):\n",
    "    os.mkdir(image_dir)\n"
   ]
  },
  {
   "cell_type": "code",
   "execution_count": 7,
   "id": "2e887f22-c8ff-4aaf-8aca-ec15b9ec3b68",
   "metadata": {},
   "outputs": [],
   "source": [
    "client = AzureOpenAI(\n",
    "    api_version=os.getenv('openai_dalle3_api_version'),\n",
    "    azure_endpoint=os.getenv('openai_dalle3_api_base'),\n",
    "    api_key=os.getenv('openai_dalle3_api_key')\n",
    ")\n"
   ]
  },
  {
   "cell_type": "code",
   "execution_count": 9,
   "id": "c5cebc81-7a0d-4f78-af87-924c5e3e4547",
   "metadata": {},
   "outputs": [
    {
     "name": "stdout",
     "output_type": "stream",
     "text": [
      "Loading products...\n",
      "Total Products: 18\n"
     ]
    }
   ],
   "source": [
    "print ('Loading products...')\n",
    "products = []\n",
    "with open(\"products.jsonl\") as f_in:\n",
    "    for line in f_in:\n",
    "        products.append(line)\n",
    "\n",
    "total_products = len(products)\n",
    "print ('Total Products:', total_products)\n"
   ]
  },
  {
   "cell_type": "code",
   "execution_count": 17,
   "id": "27eeca89-9b9d-43d9-9cbb-07e156145481",
   "metadata": {},
   "outputs": [
    {
     "name": "stdout",
     "output_type": "stream",
     "text": [
      "Creating image for: ContosoMax Pro 5G Smartphone\n",
      "Creating image for: ContosoLite X1 Dual-SIM Mobile\n",
      "Creating image for: ContosoNova Ultra HD Camera Phone\n",
      "Creating image for: Contoso Retail UltraBook Pro X150\n",
      "Creating image for: Contoso Retail Gamer's Choice G730\n",
      "Creating image for: Contoso Retail Business Elite B500\n",
      "Creating image for: Contoso Retail Frost-Free Double Door Refrigerator - 350L\n",
      "Creating image for: Contoso Retail Smart Inverter Side-by-Side Refrigerator - 500L\n",
      "Creating image for: Contoso Retail Energy Efficient Bottom Freezer Refrigerator - 400L\n",
      "Creating image for: Contoso Retail UltraClean Front Load Washing Machine\n",
      "Creating image for: Contoso Retail EcoWash Top Load Washing Machine\n",
      "Creating image for: Contoso Retail SmartWash WiFi-Enabled Washing Machine\n",
      "Creating image for: The Enchanted Forest: A Contoso Retail Adventure\n",
      "Creating image for: Mystery at Midnight: A Contoso Retail Bestseller\n",
      "Creating image for: The Lost Kingdom Chronicles: A Contoso Retail Fantasy Epic\n",
      "Error: Error code: 400 - {'error': {'code': 'content_policy_violation', 'inner_error': {'code': 'ResponsibleAIPolicyViolation', 'content_filter_results': {'hate': {'filtered': False, 'severity': 'safe'}, 'self_harm': {'filtered': False, 'severity': 'safe'}, 'sexual': {'filtered': False, 'severity': 'safe'}, 'violence': {'filtered': True, 'severity': 'low'}}, 'revised_prompt': \"Visualize the cover of a fantasy novel titled 'The Lost Kingdom Chronicles: A Contoso Retail Fantasy Epic'. It showcases the mystical land of Eldoria with a forgotten kingdom in ruins and a hint of its former grandeur. The young hero, Aric, is in the foreground, reading an ancient manuscript with determination in his eyes. He is accompanied by his diverse companions - a fierce female warrior, a cunning male thief, a wise sage of south Asian descent, and a mysterious sorceress of black descent, all ready to fight alongside him to restore the kingdom. The cover has a magical and adventurous vibe, catering to lovers of high fantasy and epic storytelling.\"}, 'message': 'This request has been blocked by our content filters.', 'type': 'invalid_request_error'}}\n",
      "Creating image for: The Science of Everyday Life: Exploring the Wonders Around Us\n",
      "Creating image for: Mastering Personal Finance: A Step-by-Step Guide to Financial Freedom\n",
      "Creating image for: History's Turning Points: Events That Changed the World\n",
      "Compled: 18 of 18\n"
     ]
    }
   ],
   "source": [
    "# Create the images\n",
    "counter = 0\n",
    "for line in products:\n",
    "    try:\n",
    "        json_data = json.loads(line)\n",
    "        picture_file_name = json_data['Title'] + '.png'\n",
    "        print ('Creating image for:', json_data['Title'])\n",
    "        if os.path.exists( os.path.join(image_dir, picture_file_name)) == False:\n",
    "            result = client.images.generate(\n",
    "                model=\"dall-e-3\",\n",
    "                prompt=remove_unicode_characters(json_data['Description']),\n",
    "                n=1\n",
    "            )\n",
    "            \n",
    "            image_url = json.loads(result.model_dump_json())['data'][0]['url']\n",
    "    \n",
    "            # Initialize the image path (note the filetype should be png)\n",
    "            image_path = os.path.join(image_dir, picture_file_name)\n",
    "            \n",
    "            # Retrieve the generated image\n",
    "            generated_image = requests.get(image_url).content  # download the image\n",
    "            with open(image_path, \"wb\") as image_file:\n",
    "                image_file.write(generated_image)\n",
    "            \n",
    "            # Display the image in the default image viewer\n",
    "            # image = Image.open(image_path)\n",
    "            # image.show()\n",
    "            # break\n",
    "    except Exception as ex:\n",
    "        print ('Error:', ex)\n",
    "    \n",
    "    counter += 1\n",
    "    if counter%100== 0:\n",
    "        print ('Compled:', counter, 'of', total_products)\n",
    "    \n",
    "print ('Completed:', counter, 'of', total_products)\n",
    "\n",
    "    "
   ]
  },
  {
   "cell_type": "code",
   "execution_count": null,
   "id": "832ec9e7-a146-47ff-8e9a-0e73b46ec42a",
   "metadata": {},
   "outputs": [],
   "source": []
  },
  {
   "cell_type": "code",
   "execution_count": null,
   "id": "a9ff754c-f29e-46c8-815c-c5de09d88527",
   "metadata": {},
   "outputs": [],
   "source": []
  }
 ],
 "metadata": {
  "kernelspec": {
   "display_name": "Python 3 (ipykernel)",
   "language": "python",
   "name": "python3"
  },
  "language_info": {
   "codemirror_mode": {
    "name": "ipython",
    "version": 3
   },
   "file_extension": ".py",
   "mimetype": "text/x-python",
   "name": "python",
   "nbconvert_exporter": "python",
   "pygments_lexer": "ipython3",
   "version": "3.11.10"
  }
 },
 "nbformat": 4,
 "nbformat_minor": 5
}
